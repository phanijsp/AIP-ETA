{
 "cells": [
  {
   "cell_type": "code",
   "execution_count": 1,
   "metadata": {},
   "outputs": [],
   "source": [
    "import pandas as pd\n",
    "\n",
    "df = pd.read_parquet('../withIndexerHtmlSource.parquet')"
   ]
  },
  {
   "cell_type": "code",
   "execution_count": 2,
   "metadata": {},
   "outputs": [
    {
     "name": "stdout",
     "output_type": "stream",
     "text": [
      "Processing index: 614089/614090\n",
      "New column 'CleanedContent' added and DataFrame saved.\n"
     ]
    },
    {
     "ename": "",
     "evalue": "",
     "output_type": "error",
     "traceback": [
      "\u001b[1;31mThe Kernel crashed while executing code in the current cell or a previous cell. \n",
      "\u001b[1;31mPlease review the code in the cell(s) to identify a possible cause of the failure. \n",
      "\u001b[1;31mClick <a href='https://aka.ms/vscodeJupyterKernelCrash'>here</a> for more info. \n",
      "\u001b[1;31mView Jupyter <a href='command:jupyter.viewOutput'>log</a> for further details."
     ]
    }
   ],
   "source": [
    "from bs4 import BeautifulSoup\n",
    "from IPython.display import display, clear_output\n",
    "\n",
    "\n",
    "results = []\n",
    "hasMagnetLink = []\n",
    "\n",
    "for index, html_content in df['IndexerHTMLSource'].items():\n",
    "    \n",
    "    clear_output(wait=True)\n",
    "    print(f\"Processing index: {index}/{len(df['IndexerHTMLSource'])}\")\n",
    "\n",
    "    try:\n",
    "        soup = BeautifulSoup(html_content, 'html.parser')\n",
    "        cleaned_text = \"\\n\".join([line.strip() for line in soup.get_text().splitlines() if line.strip()])\n",
    "\n",
    "        magnet_link = soup.find(lambda tag: tag.has_attr('href') and tag['href'].startswith('magnet:'))\n",
    "\n",
    "        if magnet_link:\n",
    "            result = f\"{cleaned_text}\\nMagnet Link: {magnet_link['href']}\"\n",
    "            magnetLinkExists = True\n",
    "        else:\n",
    "            result = cleaned_text\n",
    "            magnetLinkExists = False\n",
    "\n",
    "    except Exception as e:\n",
    "        result = \"\"  \n",
    "        magnetLinkExists = False\n",
    "\n",
    "    results.append(result)\n",
    "    hasMagnetLink.append(magnetLinkExists)\n",
    "\n",
    "df['HtmlText'] = results\n",
    "df['HasMagnetLink'] = hasMagnetLink\n",
    "\n",
    "df.to_parquet('withIndexerHtmlSourceNew.parquet', index=False)\n",
    "\n",
    "print(\"New column 'CleanedContent' added and DataFrame saved.\")"
   ]
  }
 ],
 "metadata": {
  "kernelspec": {
   "display_name": ".venv",
   "language": "python",
   "name": "python3"
  },
  "language_info": {
   "codemirror_mode": {
    "name": "ipython",
    "version": 3
   },
   "file_extension": ".py",
   "mimetype": "text/x-python",
   "name": "python",
   "nbconvert_exporter": "python",
   "pygments_lexer": "ipython3",
   "version": "3.12.5"
  }
 },
 "nbformat": 4,
 "nbformat_minor": 2
}
